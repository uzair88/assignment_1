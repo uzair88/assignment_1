{
 "cells": [
  {
   "cell_type": "markdown",
   "metadata": {},
   "source": [
    "## Python Programming Language\n",
    "\n",
    "## Assignmnet # 1"
   ]
  },
  {
   "cell_type": "markdown",
   "metadata": {},
   "source": [
    "## 1. Write a Python program to print the following string in a specific format"
   ]
  },
  {
   "cell_type": "code",
   "execution_count": 20,
   "metadata": {},
   "outputs": [
    {
     "name": "stdout",
     "output_type": "stream",
     "text": [
      "Twinkle, twinkle, little star,\n",
      "\tHow I wonder what you are!\n",
      "\t\tUp above the world so high,\n",
      "\t\tLike a diamond in the sky.\n",
      "Twinkle, twinkle, little star,\n",
      "\tHow I wonder what you are\n",
      "\n"
     ]
    }
   ],
   "source": [
    "print(\"Twinkle, twinkle, little star,\\n\\tHow I wonder what you are!\\n\\t\\tUp above the world so high,\\n\\t\\tLike a diamond in the sky.\\nTwinkle, twinkle, little star,\\n\\tHow I wonder what you are\\n\")\n"
   ]
  },
  {
   "cell_type": "markdown",
   "metadata": {},
   "source": [
    "## 2. Write a Python program to get the Python version you are using"
   ]
  },
  {
   "cell_type": "code",
   "execution_count": 24,
   "metadata": {},
   "outputs": [
    {
     "name": "stdout",
     "output_type": "stream",
     "text": [
      "Python version:\n",
      "3.7.3 (default, Mar 27 2019, 17:13:21) [MSC v.1915 64 bit (AMD64)]\n"
     ]
    }
   ],
   "source": [
    "import sys\n",
    "print(\"Python version:\")\n",
    "print (sys.version)"
   ]
  },
  {
   "cell_type": "markdown",
   "metadata": {},
   "source": [
    "## 3. Write a Python program to display the current date and time."
   ]
  },
  {
   "cell_type": "code",
   "execution_count": 25,
   "metadata": {},
   "outputs": [
    {
     "name": "stdout",
     "output_type": "stream",
     "text": [
      "Current date and time : \n",
      "2019-11-05 20:01:34\n"
     ]
    }
   ],
   "source": [
    "import datetime\n",
    "now = datetime.datetime.now()\n",
    "print (\"Current Date and Time : \")\n",
    "print (now.strftime(\"%Y-%m-%d %H:%M:%S\"))"
   ]
  },
  {
   "cell_type": "markdown",
   "metadata": {},
   "source": [
    "## 4. Write a Python program which accepts the radius of a circle from the user and compute the area."
   ]
  },
  {
   "cell_type": "code",
   "execution_count": 26,
   "metadata": {},
   "outputs": [
    {
     "name": "stdout",
     "output_type": "stream",
     "text": [
      "Input the radius of the circle : 6\n",
      "The area of the circle with radius 6.0 is: 113.09733552923255\n"
     ]
    }
   ],
   "source": [
    "from math import pi\n",
    "r = float(input (\"Input the radius of the circle : \"))\n",
    "print (\"The area of the circle with radius \" + str(r) + \" is: \" + str(pi * r**2))"
   ]
  },
  {
   "cell_type": "markdown",
   "metadata": {},
   "source": [
    "## 5. Write a Python program which accepts the user's first and last name and print them in reverse order with a space between them."
   ]
  },
  {
   "cell_type": "code",
   "execution_count": 27,
   "metadata": {},
   "outputs": [
    {
     "name": "stdout",
     "output_type": "stream",
     "text": [
      "Input your First Name : Uzair\n",
      "Input your Last Name : Ahmed\n",
      "Hello  Ahmed Uzair\n"
     ]
    }
   ],
   "source": [
    "fname = input(\"Input your First Name : \")\n",
    "lname = input(\"Input your Last Name : \")\n",
    "print (\"Hello  \" + lname + \" \" + fname)"
   ]
  },
  {
   "cell_type": "markdown",
   "metadata": {},
   "source": [
    "## 6. Write a python program which takes two inputs from user and print them addition"
   ]
  },
  {
   "cell_type": "code",
   "execution_count": 29,
   "metadata": {},
   "outputs": [
    {
     "name": "stdout",
     "output_type": "stream",
     "text": [
      "Enter Value 1 : 5\n",
      "Enter Value 2 : 5\n",
      "10\n"
     ]
    }
   ],
   "source": [
    "input1 = input(\"Enter Value 1 : \")\n",
    "input2 = input(\"Enter Value 2 : \")\n",
    "answer = int(input1) + int(input2)\n",
    "print (answer)"
   ]
  }
 ],
 "metadata": {
  "kernelspec": {
   "display_name": "Python 3",
   "language": "python",
   "name": "python3"
  },
  "language_info": {
   "codemirror_mode": {
    "name": "ipython",
    "version": 3
   },
   "file_extension": ".py",
   "mimetype": "text/x-python",
   "name": "python",
   "nbconvert_exporter": "python",
   "pygments_lexer": "ipython3",
   "version": "3.7.3"
  }
 },
 "nbformat": 4,
 "nbformat_minor": 2
}
