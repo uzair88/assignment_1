{
 "cells": [
  {
   "cell_type": "markdown",
   "metadata": {},
   "source": [
    "## Python Programming Language\n",
    "\n",
    "## Assignmnet # 4"
   ]
  },
  {
   "cell_type": "markdown",
   "metadata": {},
   "source": [
    "## 1. Use a dictionary to store information about a person you know. Store their first name, last name, age, and the city in which they live. You should have keys such as first_name, last_name, age, and city. Print each piece of information stored in your dictionary. Add a new key value pair about qualification then update the qualification value to high academic level then delete it?"
   ]
  },
  {
   "cell_type": "code",
   "execution_count": null,
   "metadata": {},
   "outputs": [],
   "source": [
    "person = {\n",
    "    'first_name': 'uzair',\n",
    "    'last_name': 'ahmed',\n",
    "    'age': 31,\n",
    "    'city': 'karachi',\n",
    "    }\n",
    "\n",
    "print(person['first_name'])\n",
    "print(person['last_name'])\n",
    "print(person['age'])\n",
    "print(person['city'])"
   ]
  },
  {
   "cell_type": "markdown",
   "metadata": {},
   "source": [
    "## 2. Make a dictionary called cities. Use the names of three cities as keys in your dictionary. Create a dictionary of information about each city and include the country that the city is in, its approximate population, and one fact about that city. The keys for each city’s dictionary should be something like country, population, and fact. Print the name of each city and all of the information you have stored about it?"
   ]
  },
  {
   "cell_type": "code",
   "execution_count": null,
   "metadata": {},
   "outputs": [],
   "source": [
    "cities = {\n",
    "    'santiago': {\n",
    "        'country': 'chile',\n",
    "        'population': 6158080,\n",
    "        'nearby mountains': 'andes',\n",
    "        },\n",
    "    'talkeetna': {\n",
    "        'country': 'alaska',\n",
    "        'population': 876,\n",
    "        'nearby mountains': 'alaska range',\n",
    "        },\n",
    "    'kathmandu': {\n",
    "        'country': 'nepal',\n",
    "        'population': 1003285,\n",
    "        'nearby mountains': 'himilaya',\n",
    "        }\n",
    "    }\n",
    "\n",
    "for city, city_info in cities.items():\n",
    "    country = city_info['country'].title()\n",
    "    population = city_info['population']\n",
    "    mountains = city_info['nearby mountains'].title()\n",
    "\n",
    "    print(\"\\n\" + city.title() + \" is in \" + country + \".\")\n",
    "    print(\"  It has a population of about \" + str(population) + \".\")\n",
    "    print(\"  The \" + mountains + \" mountains are nearby.\")"
   ]
  },
  {
   "cell_type": "markdown",
   "metadata": {},
   "source": [
    "## 3. A movie theater charges different ticket prices depending on a person’s age. If a person is under the age of 3, the ticket is free; if they are between 3 and 12, the ticket is dollar 10; and if they are over age 12, the ticket is dollar 15. Write a loop in which you ask users their age, and then tell them the cost of their movie ticket?"
   ]
  },
  {
   "cell_type": "code",
   "execution_count": null,
   "metadata": {},
   "outputs": [],
   "source": [
    "prompt = \"How old are you?\"\n",
    "prompt += \"\\nEnter 'quit' when you are finished. \"\n",
    "\n",
    "while True:\n",
    "    age = input(prompt)\n",
    "    if age == 'quit':\n",
    "        break\n",
    "    age = int(age)\n",
    "\n",
    "    if age < 3:\n",
    "        print(\"  You get in free!\")\n",
    "    elif age < 13:\n",
    "        print(\"  Your ticket is $10.\")\n",
    "    else:\n",
    "        print(\"  Your ticket is $15.\")"
   ]
  },
  {
   "cell_type": "markdown",
   "metadata": {},
   "source": [
    "## 4. Write a function called favorite_book() that accepts one parameter, title. The function should print a message, such as One of my favorite books is Alice in Wonderland. Call the function, making sure to include a book title as an argument in the function call?"
   ]
  },
  {
   "cell_type": "code",
   "execution_count": null,
   "metadata": {},
   "outputs": [],
   "source": [
    "def favorite_book(title):\n",
    "    \"\"\"Display a message about someone's favorite book.\"\"\"\n",
    "    print(title + \" is one of my favorite books.\")\n",
    "\n",
    "favorite_book('The Abstract Wild')"
   ]
  },
  {
   "cell_type": "markdown",
   "metadata": {},
   "source": [
    "## 5. Guess the number game\n",
    "\n",
    "## Write a program which randomly generate a number between 1 to 30 and ask the user in input field to guess the correct number. Give three chances to user guess the number and also give hint to user if hidden number is greater or smaller than the number he given to input field?\n"
   ]
  },
  {
   "cell_type": "code",
   "execution_count": 2,
   "metadata": {},
   "outputs": [
    {
     "name": "stdout",
     "output_type": "stream",
     "text": [
      "Guess a number (Between 1 to 30): 30\n",
      "Lower...\n",
      "Guess a number (Between 1 to 30): 25\n",
      "Lower...\n",
      "Guess a number (Between 1 to 30): 14\n",
      "Lower...\n",
      "Guess a number (Between 1 to 30): 8\n",
      "Higher...\n",
      "Guess a number (Between 1 to 30): 10\n",
      "You guessed it! The number was 10 in 5 tries\n"
     ]
    }
   ],
   "source": [
    "import random\n",
    " \n",
    "secret_number = random.randint(1, 30)\n",
    "tries, guess = 0, 0\n",
    "while guess != secret_number:\n",
    "    guess = int(input(\"Guess a number (Between 1 to 30): \"))\n",
    "    if guess > secret_number:\n",
    "        print(\"Lower...\")\n",
    "    elif guess < secret_number:\n",
    "        print(\"Higher...\")\n",
    "    tries += 1\n",
    " \n",
    "print('You guessed it! The number was {} in {} tries'.format(guess, tries))"
   ]
  },
  {
   "cell_type": "code",
   "execution_count": null,
   "metadata": {},
   "outputs": [],
   "source": []
  }
 ],
 "metadata": {
  "kernelspec": {
   "display_name": "Python 3",
   "language": "python",
   "name": "python3"
  },
  "language_info": {
   "codemirror_mode": {
    "name": "ipython",
    "version": 3
   },
   "file_extension": ".py",
   "mimetype": "text/x-python",
   "name": "python",
   "nbconvert_exporter": "python",
   "pygments_lexer": "ipython3",
   "version": "3.7.3"
  }
 },
 "nbformat": 4,
 "nbformat_minor": 2
}
