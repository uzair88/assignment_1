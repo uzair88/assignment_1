{
 "cells": [
  {
   "cell_type": "markdown",
   "metadata": {},
   "source": [
    "## Python Programming Language\n",
    "\n",
    "## Assignmnet # 2"
   ]
  },
  {
   "cell_type": "markdown",
   "metadata": {},
   "source": [
    "## 1. Write a program which takes 5 inputs from user for different subject’s marks, total it and generate mark sheet using grades ?"
   ]
  },
  {
   "cell_type": "code",
   "execution_count": 9,
   "metadata": {},
   "outputs": [
    {
     "name": "stdout",
     "output_type": "stream",
     "text": [
      "Enter Marks in English :\t99\n",
      "Enter Marks in Maths: \t99\n",
      "Enter Marks in Physics: \t99\n",
      "Enter Marks in Chemistry: \t88\n",
      "Enter Marks in Computer Science: \t77\n",
      "Total = 462\n",
      "Average = 92\n",
      "Congratulations ! You have secured first Class, and your percentage is  92.4\n"
     ]
    }
   ],
   "source": [
    "a=float(input(\"Enter Marks in English :\\t\"))\n",
    "b=float(input(\"Enter Marks in Maths: \\t\"))\n",
    "c=float(input(\"Enter Marks in Physics: \\t\"))\n",
    "d=float(input(\"Enter Marks in Chemistry: \\t\"))\n",
    "e=float(input(\"Enter Marks in Computer Science: \\t\"))\n",
    "avg=((a+b+c+d+e)/500)*100\n",
    "total=(a+b+c+d+e)\n",
    "\n",
    "print (\"Total =\", int(total))\n",
    "print (\"Average =\", int(avg))\n",
    "\n",
    "if(avg>=80):\n",
    "    \n",
    "\tprint(\"Congratulations ! You have secured first Class, and your percentage is \", avg)\n",
    "elif(avg>=60 and avg<80):\n",
    "\tprint(\"Congratulations ! You have secured Seecond Classand your percentage is \", avg )\n",
    "elif (avg>=40 and avg<60):\n",
    "\tprint(\"Congratulations ! You have secured Third Class, and your percentage is \", avg)\n",
    "elif (avg<40):\n",
    "\tprint( \"You are fail\")"
   ]
  },
  {
   "cell_type": "markdown",
   "metadata": {},
   "source": [
    "## 2. Write a program which take input from user and identify that the given number is even or odd?"
   ]
  },
  {
   "cell_type": "code",
   "execution_count": 4,
   "metadata": {},
   "outputs": [
    {
     "name": "stdout",
     "output_type": "stream",
     "text": [
      "Enter a number: 7\n",
      "This is an odd number.\n"
     ]
    }
   ],
   "source": [
    "num = int(input(\"Enter a number: \"))\n",
    "mod = num % 2\n",
    "if mod > 0:\n",
    "    print(\"This is an odd number.\")\n",
    "else:\n",
    "    print(\"This is an even number.\")"
   ]
  },
  {
   "cell_type": "markdown",
   "metadata": {},
   "source": [
    "## 3.Write a program which print the length of the list?"
   ]
  },
  {
   "cell_type": "code",
   "execution_count": 10,
   "metadata": {},
   "outputs": [
    {
     "name": "stdout",
     "output_type": "stream",
     "text": [
      "The length of list is:  4\n"
     ]
    }
   ],
   "source": [
    "# Python program to demonstrate working \n",
    "# of len() \n",
    "a = [] \n",
    "a.append(\"Hello\") \n",
    "a.append(\"Geeks\") \n",
    "a.append(\"For\") \n",
    "a.append(\"Geeks\") \n",
    "print(\"The length of list is: \", len(a)) "
   ]
  },
  {
   "cell_type": "markdown",
   "metadata": {},
   "source": [
    "## 4. Write a Python program to sum all the numeric items in a list?"
   ]
  },
  {
   "cell_type": "code",
   "execution_count": 14,
   "metadata": {},
   "outputs": [
    {
     "name": "stdout",
     "output_type": "stream",
     "text": [
      "Sum of all elements in given list:  74\n"
     ]
    }
   ],
   "source": [
    "# Python program to find sum of elements in list \n",
    "total = 0\n",
    "\n",
    "# creating a list \n",
    "list1 = [11, 5, 17, 18, 23] \n",
    "\n",
    "# Iterate each element in list \n",
    "# and add them in variale total \n",
    "for ele in range(0, len(list1)): \n",
    "\ttotal = total + list1[ele] \n",
    "\n",
    "# printing total value \n",
    "print(\"Sum of all elements in given list: \", total) \n"
   ]
  },
  {
   "cell_type": "markdown",
   "metadata": {},
   "source": [
    "## 5. Write a Python program to get the largest number from a numeric list?"
   ]
  },
  {
   "cell_type": "code",
   "execution_count": 15,
   "metadata": {},
   "outputs": [
    {
     "name": "stdout",
     "output_type": "stream",
     "text": [
      "2\n"
     ]
    }
   ],
   "source": [
    "def max_num_in_list( list ):\n",
    "    max = list[ 0 ]\n",
    "    for a in list:\n",
    "        if a > max:\n",
    "            max = a\n",
    "    return max\n",
    "print(max_num_in_list([1, 2, -8, 0]))"
   ]
  },
  {
   "cell_type": "markdown",
   "metadata": {},
   "source": [
    "## 6. Take a list, say for example this one:\n",
    "## a = [1, 1, 2, 3, 5, 8, 13, 21, 34, 55, 89]\n",
    "## and write a program that prints out all the elements of the list that are less than 5."
   ]
  },
  {
   "cell_type": "code",
   "execution_count": 21,
   "metadata": {},
   "outputs": [
    {
     "name": "stdout",
     "output_type": "stream",
     "text": [
      "1\n",
      "1\n",
      "2\n",
      "3\n"
     ]
    }
   ],
   "source": [
    "a = [1, 1, 2, 3, 5, 8, 13, 21, 34, 55, 89]\n",
    "\n",
    "for i in a:\n",
    "\n",
    "    if i < 5:\n",
    "\n",
    "        print(i)"
   ]
  },
  {
   "cell_type": "code",
   "execution_count": null,
   "metadata": {},
   "outputs": [],
   "source": []
  }
 ],
 "metadata": {
  "kernelspec": {
   "display_name": "Python 3",
   "language": "python",
   "name": "python3"
  },
  "language_info": {
   "codemirror_mode": {
    "name": "ipython",
    "version": 3
   },
   "file_extension": ".py",
   "mimetype": "text/x-python",
   "name": "python",
   "nbconvert_exporter": "python",
   "pygments_lexer": "ipython3",
   "version": "3.7.3"
  }
 },
 "nbformat": 4,
 "nbformat_minor": 2
}
